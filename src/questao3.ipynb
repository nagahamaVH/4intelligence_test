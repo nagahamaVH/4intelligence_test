{
 "cells": [
  {
   "cell_type": "markdown",
   "id": "85c2e6e7-016a-4d5b-ba7a-811351094b59",
   "metadata": {},
   "source": [
    "# Prova de ciência de dados - Questão 3\n",
    "## Victor Hugo Nagahama"
   ]
  },
  {
   "cell_type": "code",
   "execution_count": null,
   "id": "d7a24834-0933-4a6b-982b-12d45baf58db",
   "metadata": {},
   "outputs": [],
   "source": [
    "import pandas as pd\n",
    "import numpy as np\n",
    "import matplotlib.pyplot as plt\n",
    "import seaborn as sns"
   ]
  },
  {
   "cell_type": "code",
   "execution_count": null,
   "id": "2ec79b20-8527-4108-8c60-4ff21116167b",
   "metadata": {},
   "outputs": [],
   "source": [
    "pnad = pd.read_csv(\"../data/pnad.csv\", index_col=0)\n",
    "print(pnad.shape)\n",
    "pnad.head()"
   ]
  },
  {
   "cell_type": "markdown",
   "id": "410556df-bf7a-4acd-80e4-d1652121f6fb",
   "metadata": {},
   "source": [
    "### Pre processamento"
   ]
  },
  {
   "cell_type": "markdown",
   "id": "f0ffb6e5-3b5a-4d59-a860-ff933368b1ac",
   "metadata": {},
   "source": [
    "#### Removendo pessoas com dia de nascimento igual a 99."
   ]
  },
  {
   "cell_type": "code",
   "execution_count": null,
   "id": "c82c3890-5293-421d-9964-0f19c48c1312",
   "metadata": {},
   "outputs": [],
   "source": [
    "clean = pnad.loc[pnad.loc[:, \"V2008\"] != 99, :]\n",
    "print(clean.shape)\n",
    "clean.head()"
   ]
  },
  {
   "cell_type": "markdown",
   "id": "14816b95-fc30-48af-900a-7ce279ab6c27",
   "metadata": {},
   "source": [
    "#### Removendo gêmeos"
   ]
  },
  {
   "cell_type": "code",
   "execution_count": null,
   "id": "d5e4f10f-b553-40d8-acd2-2da951f986b5",
   "metadata": {},
   "outputs": [],
   "source": [
    "twins_df = clean.loc[:, [\"UPA\", \"V1008\", \"V1014\", \"V2008\", \"V20081\", \"V20082\", \"V2007\"]]\n",
    "twins_df.head()"
   ]
  },
  {
   "cell_type": "code",
   "execution_count": null,
   "id": "fa38f267-5688-43cd-a388-0dd5d5966672",
   "metadata": {},
   "outputs": [],
   "source": [
    "twins_idx = twins_df[twins_df.duplicated(keep=False)].index.tolist()\n",
    "clean_idx = clean.index.tolist()\n",
    "single_idx = list(set(clean_idx) - set(twins_idx))\n",
    "clean = clean.loc[single_idx,:].reset_index(drop=True)\n",
    "print(clean.shape)\n",
    "clean.head()"
   ]
  },
  {
   "cell_type": "markdown",
   "id": "92d25ffd-0fcd-43ef-8034-0aa34a9f2d62",
   "metadata": {},
   "source": [
    "### 1) No 4o trimestre de 2019, quantas pessoas estavam ocupadas? Analise o perfil desses indivíduos. Proponha visualizações para sua análise. Faça a mesma coisa para 2020 e compare."
   ]
  },
  {
   "cell_type": "code",
   "execution_count": null,
   "id": "582bd306-ebbe-460c-9f59-990aceb5eb02",
   "metadata": {},
   "outputs": [],
   "source": [
    "df2019 = clean.loc[(clean[\"Ano\"] == 2019) & (clean[\"VD4002\"] == 1), :].reset_index(drop=True)\n",
    "print(df2019.shape)\n",
    "df2019.head()"
   ]
  },
  {
   "cell_type": "code",
   "execution_count": null,
   "id": "cf65ced3-a5e8-4ad9-bc5c-9868311c1a41",
   "metadata": {},
   "outputs": [],
   "source": [
    "df2020 = clean.loc[(clean[\"Ano\"] == 2020) & (clean[\"VD4002\"] == 1), :].reset_index(drop=True)\n",
    "print(df2020.shape)\n",
    "df2020.head()"
   ]
  },
  {
   "cell_type": "code",
   "execution_count": null,
   "id": "7a0a2523-cfa6-466c-aca0-a9ba283b2d0c",
   "metadata": {},
   "outputs": [],
   "source": [
    "sex = df2019[\"V2007\"].value_counts().reset_index()\n",
    "\n",
    "sns.barplot(x=\"index\", y=\"V2007\", data=sex)\n",
    "plt.xlabel(\"Sexo\")\n",
    "plt.ylabel(\"Frequência\")\n",
    "plt.title(\"Distribuição do sexo em 2019\")\n",
    "plt.show()"
   ]
  },
  {
   "cell_type": "code",
   "execution_count": null,
   "id": "80141aa0-2293-41d3-a248-166fd08e933c",
   "metadata": {},
   "outputs": [],
   "source": [
    "sex = df2020[\"V2007\"].value_counts().reset_index()\n",
    "\n",
    "sns.barplot(x=\"index\", y=\"V2007\", data=sex)\n",
    "plt.xlabel(\"Sexo\")\n",
    "plt.ylabel(\"Frequência\")\n",
    "plt.title(\"Distribuição do sexo em 2020\")\n",
    "plt.show()"
   ]
  },
  {
   "cell_type": "code",
   "execution_count": null,
   "id": "72cd3aaf-9484-4c95-a4a6-1a30ca3404e3",
   "metadata": {},
   "outputs": [],
   "source": [
    "occupied = clean.loc[clean[\"VD4002\"] == 1, :].reset_index(drop=True)\n",
    "occupied.head()"
   ]
  },
  {
   "cell_type": "code",
   "execution_count": null,
   "id": "0d96b001-c35a-40ec-a95b-0ae9d42a80a3",
   "metadata": {},
   "outputs": [],
   "source": [
    "sns.boxplot(x=\"Ano\", y=\"V2009\", data=occupied)\n",
    "plt.show()"
   ]
  },
  {
   "cell_type": "code",
   "execution_count": null,
   "id": "78e7a750-4c0c-4c23-9806-ccf397ef1abc",
   "metadata": {},
   "outputs": [],
   "source": [
    "occupied[\"VD4020\"] = np.log(occupied[\"VD4020\"] + 1)\n",
    "sns.boxplot(x=\"Ano\", y=\"VD4020\", data=occupied)\n",
    "plt.title(\"Distribuição do rendimento mensal efetivo\")\n",
    "plt.show()"
   ]
  },
  {
   "cell_type": "markdown",
   "id": "52483cc4-ea04-4d79-b911-2e5d8a0fcf6a",
   "metadata": {},
   "source": [
    "Em 2019, 188420 pessoas estavam ocupadas enquanto que em 2020 foram 95343 pessoas, conforme os gráficos acima, em ambos anos o sexo codificado como 1 foi predomininante e a distribuição das idades dos ocupantes não se alterou com a mudança do ano, entretanto, a mediana da renda mensal efetiva no ano de 2020 foi superior em relação a 2019."
   ]
  },
  {
   "cell_type": "markdown",
   "id": "b1839132-1ad4-4348-ac92-5820b21c3d27",
   "metadata": {},
   "source": [
    "### 2) Considere agora os três grupos abaixo. Como se comportou a renda média (tanto efetiva quanto habitual), em cada um dos casos, quando comparamos o 4o trimestre de 2020 com 4o trimestre de 2019?"
   ]
  },
  {
   "cell_type": "code",
   "execution_count": null,
   "id": "07e52707-dfd6-4b18-b06f-e8272f4da510",
   "metadata": {},
   "outputs": [],
   "source": []
  }
 ],
 "metadata": {
  "kernelspec": {
   "display_name": "Python [conda env:4intelligence] *",
   "language": "python",
   "name": "conda-env-4intelligence-py"
  },
  "language_info": {
   "codemirror_mode": {
    "name": "ipython",
    "version": 3
   },
   "file_extension": ".py",
   "mimetype": "text/x-python",
   "name": "python",
   "nbconvert_exporter": "python",
   "pygments_lexer": "ipython3",
   "version": "3.6.13"
  }
 },
 "nbformat": 4,
 "nbformat_minor": 5
}
