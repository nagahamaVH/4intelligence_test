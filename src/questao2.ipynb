{
 "cells": [
  {
   "cell_type": "markdown",
   "id": "5dce715a-11f4-4b5e-868a-b469a9fb810d",
   "metadata": {},
   "source": [
    "# Prova de ciência de dados - Questão 2\n",
    "## Victor Hugo Nagahama"
   ]
  },
  {
   "cell_type": "code",
   "execution_count": null,
   "id": "91776013-a7a2-4c92-bfac-5b6cfa80fdb7",
   "metadata": {},
   "outputs": [],
   "source": [
    "import pandas as pd\n",
    "import datetime"
   ]
  },
  {
   "cell_type": "code",
   "execution_count": null,
   "id": "4224fc01-9cad-4806-8b62-4f8f5b1cbf11",
   "metadata": {},
   "outputs": [],
   "source": [
    "comexstat = pd.read_csv(\"../data/data_comexstat.csv\", encoding='latin-1')\n",
    "comexstat[\"date\"] = pd.to_datetime(comexstat[\"date\"])\n",
    "print(comexstat.shape)\n",
    "comexstat.head()"
   ]
  },
  {
   "cell_type": "markdown",
   "id": "c4635da7-975f-4e41-a1e0-aa08e846f9c2",
   "metadata": {},
   "source": [
    "### 1) Qual a composição das exportações brasileiras nos últimos 5 anos?"
   ]
  },
  {
   "cell_type": "code",
   "execution_count": null,
   "id": "b3ae80df-20b6-480b-9d63-35c4264c5611",
   "metadata": {},
   "outputs": [],
   "source": [
    "q1_df = comexstat.loc[comexstat.loc[:, \"country\"] == \"Brazil\"]\n",
    "q1_df = q1_df.loc[q1_df.loc[:, \"date\"] >= datetime.datetime(2016, 5, 17)]\n",
    "q1_df = q1_df.loc[q1_df.loc[:, \"type\"] == \"Export\"]\n",
    "print(q1_df.shape)\n",
    "q1_df"
   ]
  },
  {
   "cell_type": "code",
   "execution_count": null,
   "id": "3e71553b-2a8e-4acb-b6be-58e1c865edd7",
   "metadata": {},
   "outputs": [],
   "source": [
    "q1_df[\"usd\"].mean()"
   ]
  },
  {
   "cell_type": "markdown",
   "id": "44452a38-a636-4a62-8e26-94005fac913d",
   "metadata": {},
   "source": [
    "As exportações brasileiras nos últimos cinco anos foram realizadas pelo estado de Alagoas, ambas ocorreram na mesma data (01/09/2019), utilizaram uma rota alternativa com peso igual a 0 toneladas, rendendo em média 13,5 dólares exportanto óleo de soja e açucar"
   ]
  },
  {
   "cell_type": "markdown",
   "id": "9d84a471-faea-431d-91c3-b8b67df5954d",
   "metadata": {},
   "source": [
    "### 2) Qual a dinâmica da exportações anuais e mensais do Brasil de soja e milho? Dica: Mostre o que você considera interessante nos dados por UF, por rota (aéreo, marítimo, etc) ou para os países destino."
   ]
  },
  {
   "cell_type": "code",
   "execution_count": null,
   "id": "1e5bf650-7e81-4bde-aebb-830294679040",
   "metadata": {},
   "outputs": [],
   "source": [
    "comexstat[\"product\"].unique()"
   ]
  },
  {
   "cell_type": "code",
   "execution_count": null,
   "id": "9d206680-4df9-4533-a6b3-64192a695cb8",
   "metadata": {},
   "outputs": [],
   "source": [
    "q2_df = comexstat.loc[comexstat.loc[:, \"country\"] == \"Brazil\"]\n",
    "q2_df = q2_df.loc[q2_df.loc[:, \"type\"] == \"Export\"]\n",
    "q2_df = q2_df.loc[q2_df.loc[:, \"product\"].isin([\"corn\", \"soybean_meal\", \"soybean_oil\", \"soybeans\"])]\n",
    "print(q2_df.shape)\n",
    "q2_df"
   ]
  },
  {
   "cell_type": "markdown",
   "id": "b9c52ed5-a23c-46e6-a1e1-4481194137a9",
   "metadata": {},
   "source": [
    "Houve apenas um registro de exportação de soja ou milho no Brasil, em 01/09/2019, partindo do estado de Alagoas via uma rota do tipo \"outra\" na quantidade de 0 toneladas correspondendo ao valor de 12 dólares"
   ]
  },
  {
   "cell_type": "markdown",
   "id": "0a82cbf1-070c-44d5-8968-5dda9042fc8f",
   "metadata": {},
   "source": [
    "### 3) Como você projetaria as exportações de soja e milho para os próximos 5 anos? Fique à vontade para usar qualquer tipo de modelagem que considere importante, assim como qualquer base de dados adicionais que deseje (ex: FMI, Banco Central, World Bank, IBGE)"
   ]
  },
  {
   "cell_type": "code",
   "execution_count": null,
   "id": "338b79ab-7fad-4ef6-99d0-94ab55cebffe",
   "metadata": {},
   "outputs": [],
   "source": [
    "q3_df = comexstat.loc[comexstat.loc[:, \"type\"] == \"Export\"]\n",
    "print(q3_df.shape)\n",
    "q3_df.head()"
   ]
  }
 ],
 "metadata": {
  "kernelspec": {
   "display_name": "Python [conda env:4intelligence] *",
   "language": "python",
   "name": "conda-env-4intelligence-py"
  },
  "language_info": {
   "codemirror_mode": {
    "name": "ipython",
    "version": 3
   },
   "file_extension": ".py",
   "mimetype": "text/x-python",
   "name": "python",
   "nbconvert_exporter": "python",
   "pygments_lexer": "ipython3",
   "version": "3.6.13"
  }
 },
 "nbformat": 4,
 "nbformat_minor": 5
}
